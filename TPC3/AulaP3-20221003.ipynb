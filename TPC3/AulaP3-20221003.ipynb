{
 "cells": [
  {
   "cell_type": "markdown",
   "id": "1e545158",
   "metadata": {},
   "source": [
    "# Aula Prática 3 (guião)\n",
    "### Semana de 3 a 7 de Outubro de 2022\n",
    "### José Carlos Ramalho e Luís Cunha\n",
    "### Sinopsis:\n",
    "Algoritmos sobre listas."
   ]
  },
  {
   "cell_type": "markdown",
   "id": "e38d18c4-d7d7-4fea-9bc6-e3f3c903386b",
   "metadata": {},
   "source": [
    "### Exercício 1: Criar uma lista \n",
    "- Defina uma função que recebe um argumento **N** e devolve uma  lista com os números pares até **N**;\n",
    "- Crie um programa que chama a função e imprime a lista resultante."
   ]
  },
  {
   "cell_type": "code",
   "execution_count": 17,
   "id": "af973146-3bb4-4fa8-ba6c-b887b79ccff8",
   "metadata": {},
   "outputs": [
    {
     "name": "stdout",
     "output_type": "stream",
     "text": [
      "[]\n",
      "None\n"
     ]
    }
   ],
   "source": [
    "# Solução do exercício 1\n",
    "def criaLista(N):\n",
    "  lista = []\n",
    "  i=0\n",
    "  while (i<=N):\n",
    "    if N%2 == 0:\n",
    "        lista.append(i)\n",
    "    i= i + 1\n",
    "  print (lista)\n",
    "\n",
    "ListaB = [1,2,3,4]\n",
    "print(criaLista(ListaB[2]))\n",
    "\n",
    "N= int(input(\"insira um numero\"))\n",
    "\n",
    "\n",
    "\n",
    "\n",
    "  \n",
    "    \n"
   ]
  },
  {
   "cell_type": "markdown",
   "id": "bdcbffb0",
   "metadata": {},
   "source": [
    "### Exercício 2: Ler uma lista de N números\n",
    "- Defina uma função que recebe um argumento **N** e lê **N** números armazenando-os numa lista que é devolvida como resultado;\n",
    "- Crie um programa que chama a função e imprime a lista resultante."
   ]
  },
  {
   "cell_type": "code",
   "execution_count": 22,
   "id": "af973146-3bb4-4fa8-ba6c-b887b79ccff8",
   "metadata": {},
   "outputs": [
    {
     "data": {
      "text/plain": [
       "[1, 2, 3]"
      ]
     },
     "execution_count": 22,
     "metadata": {},
     "output_type": "execute_result"
    }
   ],
   "source": [
    "# Solução do exercício 2\n",
    "def leLista(N):\n",
    "    i=0\n",
    "    lista=[]\n",
    "    while (i<N):\n",
    "        X= int(input(\"insira um numero\"))\n",
    "        lista.append(X)\n",
    "        i= i + 1\n",
    "    return lista\n",
    "\n",
    "n= int(input(\"insira um numero N\"))\n",
    "leLista(n)\n"
   ]
  },
  {
   "cell_type": "markdown",
   "id": "bdcbffb0",
   "metadata": {},
   "source": [
    "### Exercício 3: Somar uma lista de números\n",
    "- Defina uma função que recebe uma lista como argumento e devolve a soma dos números nessa lista."
   ]
  },
  {
   "cell_type": "code",
   "execution_count": 28,
   "id": "64ad6f7b",
   "metadata": {},
   "outputs": [
    {
     "name": "stdout",
     "output_type": "stream",
     "text": [
      "10\n"
     ]
    }
   ],
   "source": [
    "# Solução do exercício 3\n",
    "\n",
    "def somaLista(lista):\n",
    "    soma=0\n",
    "    for i in lista:\n",
    "        soma = soma + i\n",
    "    return soma     \n",
    "\n",
    "N = int(input(\"insira um numero N\"))\n",
    "print(somaLista(leLista(N)))"
   ]
  },
  {
   "cell_type": "markdown",
   "id": "bdcbffb0",
   "metadata": {},
   "source": [
    "### Exercício 4: Calcular a média duma lista de números\n",
    "- Defina uma função que recebe uma lista como argumento e devolve a média dos números nessa lista."
   ]
  },
  {
   "cell_type": "code",
   "execution_count": 37,
   "id": "a6c32b2e",
   "metadata": {},
   "outputs": [
    {
     "name": "stdout",
     "output_type": "stream",
     "text": [
      "1980.8\n"
     ]
    }
   ],
   "source": [
    "# Solução do exercício 4\n",
    "\n",
    "def mediaLista(lista):\n",
    "    soma=0\n",
    "    media=0\n",
    "    for i in lista:\n",
    "        soma = soma + i\n",
    "    n=len(lista)\n",
    "    media= soma/n\n",
    "    return media\n",
    "\n",
    "\n",
    "N=int(input(\"insira um numero N\"))\n",
    "\n",
    "print(mediaLista(leLista(N)))"
   ]
  },
  {
   "cell_type": "markdown",
   "id": "f41ef69b",
   "metadata": {},
   "source": [
    "### Exercício 5: Maior de uma sequência\n",
    "- Defina uma função que recebe uma lista como argumento e devolve o maior número nessa lista."
   ]
  },
  {
   "cell_type": "code",
   "execution_count": 44,
   "id": "86f5b24d",
   "metadata": {},
   "outputs": [
    {
     "name": "stdout",
     "output_type": "stream",
     "text": [
      "4\n"
     ]
    }
   ],
   "source": [
    "# Solução do exercício 5\n",
    "def maiorLista(lista):\n",
    "    max=lista[0]\n",
    "    for i in lista[1:]:\n",
    "     if i>max:\n",
    "        max=i\n",
    "\n",
    "    \n",
    "    return max\n",
    "lista=[1,2,3,4]\n",
    "print(maiorLista(lista))\n",
    "\n"
   ]
  },
  {
   "cell_type": "markdown",
   "id": "d11cdd11",
   "metadata": {},
   "source": [
    "### Exercício 6: Menor de uma sequência\n",
    "- Defina uma função que recebe uma lista como argumento e devolve o menor número nessa lista."
   ]
  },
  {
   "cell_type": "code",
   "execution_count": 46,
   "id": "7549c7d7",
   "metadata": {},
   "outputs": [
    {
     "name": "stdout",
     "output_type": "stream",
     "text": [
      "0\n"
     ]
    }
   ],
   "source": [
    "# Solução do exercício 6\n",
    "def menorLista(lista):\n",
    "    min=lista[0]\n",
    "    for i in lista[1:]:\n",
    "        if i<min:\n",
    "            min=i\n",
    "\n",
    "\n",
    "    \n",
    "    return min\n",
    "\n",
    "lista=[0,1,2,3,4]\n",
    "print(menorLista(lista))"
   ]
  },
  {
   "cell_type": "markdown",
   "id": "775a02a5",
   "metadata": {},
   "source": [
    "### Exercício 7: Contar strings\n",
    "- Defina uma função que recebe uma lista de strings como argumento e devolve número de strings nessa lista que:\n",
    "    1. Têm tamanho maior ou igual a 2;\n",
    "    2. Começam e terminam pelo mesmo caracter.\n",
    "#### Input (exemplo)\n",
    "in: ['abc', 'xyz', 'aba', '1221']\n",
    "#### Output (exemplo)\n",
    "out: 2"
   ]
  },
  {
   "cell_type": "code",
   "execution_count": 54,
   "id": "7390bc6a",
   "metadata": {},
   "outputs": [
    {
     "name": "stdout",
     "output_type": "stream",
     "text": [
      "1\n"
     ]
    }
   ],
   "source": [
    "# Solução do exercício 7\n",
    "def contarStringsLista(lista):\n",
    "    counter = 0\n",
    "    for i in lista:\n",
    "        if len(i)>=2: \n",
    "           if i[-1] == i[0]:\n",
    "            counter = counter + 1\n",
    "     \n",
    "    return counter\n",
    "\n",
    "lista=[\"abc\",\"aba\"]\n",
    "print(contarStringsLista(lista))\n"
   ]
  },
  {
   "cell_type": "markdown",
   "id": "f9ba457b",
   "metadata": {},
   "source": [
    "### Exercício 8: Remover duplicados\n",
    "- Defina uma função que recebe uma lista como argumento e devolve uma nova lista eliminando elementos repetidos."
   ]
  },
  {
   "cell_type": "code",
   "execution_count": 56,
   "id": "0abc61e5",
   "metadata": {},
   "outputs": [
    {
     "data": {
      "text/plain": [
       "[1, 2, 3, 4, 5]"
      ]
     },
     "execution_count": 56,
     "metadata": {},
     "output_type": "execute_result"
    }
   ],
   "source": [
    "# Solução do exercício 8\n",
    "def remDupLista(lista):\n",
    "    lista1=[]\n",
    "    for i in lista:\n",
    "        if i not in lista1:\n",
    "            lista1.append(i)\n",
    "    return lista1\n",
    "\n",
    "remDupLista([1,2,3,4,2,5])\n",
    "\n"
   ]
  },
  {
   "cell_type": "markdown",
   "id": "9bc471d8",
   "metadata": {},
   "source": [
    "### Exercício 9: eVazia?\n",
    "- Defina uma função que recebe uma lista como argumento e devolve um resultado booleano verdadeiro se a lista estiver vazia."
   ]
  },
  {
   "cell_type": "code",
   "execution_count": 4,
   "id": "18cf2aff",
   "metadata": {},
   "outputs": [
    {
     "name": "stdout",
     "output_type": "stream",
     "text": [
      "False\n"
     ]
    }
   ],
   "source": [
    "# Solução do exercício 9\n",
    "def eVazia(lista):\n",
    "    if len(lista)==0:\n",
    "        n=True\n",
    "    else:\n",
    "        n=False\n",
    "        \n",
    "\n",
    "    return n \n",
    "     \n",
    "\n",
    "   \n",
    "    \n",
    "print(eVazia([1]))"
   ]
  },
  {
   "cell_type": "markdown",
   "id": "72b8fac0",
   "metadata": {},
   "source": [
    "### Exercício 10: Copiar lista\n",
    "- Defina uma função que recebe uma lista como argumento e devolve uma nova lista correspondente a uma cópia da lista recebida."
   ]
  },
  {
   "cell_type": "code",
   "execution_count": 11,
   "id": "a61ca503",
   "metadata": {},
   "outputs": [
    {
     "data": {
      "text/plain": [
       "[1, 2, 3, 4]"
      ]
     },
     "execution_count": 11,
     "metadata": {},
     "output_type": "execute_result"
    }
   ],
   "source": [
    "# Solução do exercício 10\n",
    "def copiarLista(lista):\n",
    "    lista1=lista[:]\n",
    "    return lista1\n",
    "  \n",
    "copiarLista([1,2,3,4])  \n"
   ]
  },
  {
   "cell_type": "markdown",
   "id": "d170cc50",
   "metadata": {},
   "source": [
    "### Exercício 11: Strings maiores que n carateres\n",
    "- Defina uma função que recebe dois argumentos, uma lista de strings e um número inteiro, e que devolve uma nova lista de strings em que estas têm um comprimento igual ou superior ao valor inteiro passado como argumento."
   ]
  },
  {
   "cell_type": "code",
   "execution_count": 12,
   "id": "1944ef1d",
   "metadata": {},
   "outputs": [
    {
     "data": {
      "text/plain": [
       "[[0, 1, 2], 957, 232, 213, 775, 211]"
      ]
     },
     "execution_count": 12,
     "metadata": {},
     "output_type": "execute_result"
    }
   ],
   "source": [
    "# Solução do exercício 11\n",
    "from random import randint\n",
    "def stringsMaioresLista(lista, n):\n",
    "    lista1=[lista]\n",
    "    while n > 0:\n",
    "        lista1.append(randint(0,1000))\n",
    "        n=n-1\n",
    "    \n",
    "    return lista1\n",
    "\n",
    "stringsMaioresLista(0,1,2,5)"
   ]
  },
  {
   "cell_type": "markdown",
   "id": "af46fe06",
   "metadata": {},
   "source": [
    "### Exercício 12: Comum?\n",
    "- Defina uma função que recebe duas listas como argumento, e que devolve o valor booleano verdadeiro se as listas tiverem pelo menos um elemento comum."
   ]
  },
  {
   "cell_type": "code",
   "execution_count": 14,
   "id": "7a2f4413",
   "metadata": {},
   "outputs": [
    {
     "data": {
      "text/plain": [
       "True"
      ]
     },
     "execution_count": 14,
     "metadata": {},
     "output_type": "execute_result"
    }
   ],
   "source": [
    "# Solução do exercício 12\n",
    "def haComuns(listaA, listaB):\n",
    "    resultado=False\n",
    "    for i in listaA:\n",
    "        if i in listaB:\n",
    "            resultado = True\n",
    "          \n",
    "    \n",
    "    return resultado\n",
    "\n",
    "haComuns([1,2,3,4], [1,2,3])    "
   ]
  },
  {
   "cell_type": "markdown",
   "id": "061bae0e",
   "metadata": {},
   "source": [
    "### Exercício 13: Comuns\n",
    "- Defina uma função que recebe duas listas como argumento, e que devolve uma nova lista com os valores comuns às duas listas."
   ]
  },
  {
   "cell_type": "code",
   "execution_count": 15,
   "id": "02db9458",
   "metadata": {},
   "outputs": [
    {
     "data": {
      "text/plain": [
       "[0, 1]"
      ]
     },
     "execution_count": 15,
     "metadata": {},
     "output_type": "execute_result"
    }
   ],
   "source": [
    "# Solução do exercício 13\n",
    "def comuns(listaA, listaB):\n",
    "    lista1=[]\n",
    "    for i in listaA:\n",
    "        if i in listaB:\n",
    "            lista1.append(i)\n",
    "\n",
    "    \n",
    "    return lista1\n",
    "\n",
    "comuns([0,1,2], [0,3,1])    "
   ]
  },
  {
   "cell_type": "markdown",
   "id": "af4f2b11",
   "metadata": {},
   "source": [
    "### Exercício 14: Únicos\n",
    "- Defina uma função que recebe duas listas como argumento, e que devolve uma nova lista com os valores que apenas existem numa delas."
   ]
  },
  {
   "cell_type": "code",
   "execution_count": 17,
   "id": "01a0d35e",
   "metadata": {},
   "outputs": [
    {
     "data": {
      "text/plain": [
       "[2, 3, 4, 5]"
      ]
     },
     "execution_count": 17,
     "metadata": {},
     "output_type": "execute_result"
    }
   ],
   "source": [
    "# Solução do exercício 14\n",
    "def unicos(listaA, listaB):\n",
    "    lista1=[]\n",
    "    for i in listaA:\n",
    "        if i not in listaB:\n",
    "            lista1.append(i)\n",
    "    for i in listaB:\n",
    "        if i not in listaA:\n",
    "            lista1.append(i)        \n",
    "\n",
    "    \n",
    "    \n",
    "    return lista1\n",
    "\n",
    "unicos([1,2,3],[1,4,5])    "
   ]
  },
  {
   "cell_type": "markdown",
   "id": "2acbab46",
   "metadata": {},
   "source": [
    "### Exercício 15: indiceDe\n",
    "- Defina uma função que recebe uma lista e um elemento como argumento, e que devolve o índice desse elemento na lista. No caso do elemento não existir na lista deverá devolver o valor -1."
   ]
  },
  {
   "cell_type": "code",
   "execution_count": 5,
   "id": "3891e6c3",
   "metadata": {},
   "outputs": [
    {
     "data": {
      "text/plain": [
       "1"
      ]
     },
     "execution_count": 5,
     "metadata": {},
     "output_type": "execute_result"
    }
   ],
   "source": [
    "# Solução do exercício 15\n",
    "def unicos(lista, elem):\n",
    "    for i in lista:\n",
    "        if elem not in lista:\n",
    "            n= -1\n",
    "        elif elem in lista:\n",
    "            n= lista.index(elem)    \n",
    "        \n",
    "\n",
    "        \n",
    "\n",
    "            \n",
    "    return n\n",
    "\n",
    "unicos([0,3,1,2,4],3)    "
   ]
  },
  {
   "cell_type": "markdown",
   "id": "1d9c2fbc",
   "metadata": {},
   "source": [
    "### Exercício 16: estaOrdenada\n",
    "- Defina uma função que recebe uma lista de números e verifica se a mesma está ordenada por ordem crescente."
   ]
  },
  {
   "cell_type": "code",
   "execution_count": 7,
   "id": "fb44546a",
   "metadata": {},
   "outputs": [
    {
     "data": {
      "text/plain": [
       "False"
      ]
     },
     "execution_count": 7,
     "metadata": {},
     "output_type": "execute_result"
    }
   ],
   "source": [
    "# Solução do exercício 16\n",
    "def estaOrdenada(lista):\n",
    "    tam=len(lista)\n",
    "    while tam>0:\n",
    "     for i in range(0,tam):\n",
    "        if lista[-1]> lista[-2]:\n",
    "            n=True\n",
    "        else:\n",
    "            n=False\n",
    "     tam= tam-1       \n",
    "\n",
    "          \n",
    "           \n",
    "\n",
    "         \n",
    "\n",
    "\n",
    "    \n",
    "\n",
    "\n",
    "    \n",
    "    return n\n",
    "\n",
    "estaOrdenada([1,3,2])    \n",
    "\n"
   ]
  },
  {
   "cell_type": "markdown",
   "id": "4c48dc90",
   "metadata": {},
   "source": [
    "### Exercício 17: estaOrdenadaCD\n",
    "- Modifique a função do exercício anterior para receber um parâmetro extra, **ordem**, que poderá ter valores \"C\" ou \"D\" e que vai verificar se a lista está ordenada por ordem crescente se **ordem=\"C\"** ou se está ordenada por ordem decrescente se **ordem=\"D\"**."
   ]
  },
  {
   "cell_type": "code",
   "execution_count": 14,
   "id": "f4b83960",
   "metadata": {},
   "outputs": [
    {
     "data": {
      "text/plain": [
       "True"
      ]
     },
     "execution_count": 14,
     "metadata": {},
     "output_type": "execute_result"
    }
   ],
   "source": [
    "# Solução do exercício 16\n",
    "def estaOrdenadaCD(lista, ordem):\n",
    "    tam=len(lista)\n",
    "    while tam >0:\n",
    "        for i in range (0,tam):\n",
    "            if lista[-1]> lista[-2] and ordem==\"C\":\n",
    "                n=True\n",
    "            elif lista[-1] < lista[-2]  and ordem== \"D\":\n",
    "                n=True\n",
    "            else:\n",
    "                n=False    \n",
    "            \n",
    "        \n",
    "        tam =tam -1          \n",
    "    \n",
    "    return n\n",
    "\n",
    "estaOrdenadaCD([4,3,2,1],\"D\")\n"
   ]
  },
  {
   "cell_type": "markdown",
   "id": "4193a91b",
   "metadata": {},
   "source": [
    "### TPC3: Aplicação para manipulação de listas de inteiros\n",
    "- Crie uma aplicação em Python que coloca no monitor o seguinte menu:\n",
    "    * (1) Criar Lista \n",
    "    * (2) Ler Lista\n",
    "    * (3) Soma\n",
    "    * (4) Média\n",
    "    * (5) Maior\n",
    "    * (6) Menor\n",
    "    * (7) estaOrdenada por ordem crescente\n",
    "    * (8) estaOrdenada por ordem decrescente\n",
    "    * (9) Procura um elemento\n",
    "    * (0) Sair\n",
    "- O utilizador irá escolher uma das opções introduzindo o número correspondente;\n",
    "- Se a opção não for sair, a aplicação executa a operação pretendida, apresenta o resultado e a seguir apresenta de novo o menu;\n",
    "- Se a opção for sair, a aplicação termina colocando uma mensagem no monitor.\n",
    "\n",
    "* No desenvolvimento da aplicação deverá ter em atenção o seguinte:\n",
    "    - A aplicação terá uma variável interna para guardar uma lista de números;\n",
    "    - Na opção 1, deverá ser criada uma lista de números aleatórios entre 1 e 100 que será guardada na variável interna;\n",
    "    - Na opção 2, deverá ser criada uma lista com números introduzidos pelo utilizador, que será guardada na variável interna;\n",
    "    - Nestas primeiras opções, se a variável interna já tiver uma lista, esta será sobreposta/apagada pela nova lista;\n",
    "    - Na opção 3, será calculada a soma dos elementos na lista no momento;\n",
    "    - Na opção 4, será calculada a média dos elementos na lista no momento;\n",
    "    - Na opção 5, será calculado o maior elemento da lista no momento;\n",
    "    - Na opção 6, será calculado o menor elemento da lista no momento;\n",
    "    - Na opção 7, a aplicação deverá indicar (Sim/Não) se a lista está ordenada por ordem crescente;\n",
    "    - Na opção 8, a aplicação deverá indicar (Sim/Não) se a lista está ordenada por ordem decrescente;\n",
    "    - Na opção 9, a aplicação irá procurar um ellmento na lista, se o encontrar deverá devolver a sua posição;\n",
    "    - Se o utilizador selecionar a opção 0, a aplicação deverá terminar mostrando a lista que está nesse momento guardada."
   ]
  },
  {
   "cell_type": "code",
   "execution_count": 2,
   "id": "1fe67233",
   "metadata": {},
   "outputs": [
    {
     "name": "stdout",
     "output_type": "stream",
     "text": [
      "Menu: \n",
      " (1) - Criar Lista \n",
      " (2) - Ler Lista \n",
      " (3) - Soma \n",
      " (4) - Média \n",
      " (5) - Maior \n",
      " (6) - Menor \n",
      " (7) - estaOrdenada por ordem cresecente \n",
      " (8) - estaOrdenada por ordem descresecente \n",
      " (9) - Procura um elemento \n",
      " (0) - Sair \n",
      "\n",
      " Insira o número da opção que quer!\n",
      "[23, 4, 99, 42, 84]\n",
      "Menu: \n",
      " (1) - Criar Lista \n",
      " (2) - Ler Lista \n",
      " (3) - Soma \n",
      " (4) - Média \n",
      " (5) - Maior \n",
      " (6) - Menor \n",
      " (7) - estaOrdenada por ordem cresecente \n",
      " (8) - estaOrdenada por ordem descresecente \n",
      " (9) - Procura um elemento \n",
      " (0) - Sair \n",
      "\n",
      " Insira o número da opção que quer!\n",
      "252\n",
      "Menu: \n",
      " (1) - Criar Lista \n",
      " (2) - Ler Lista \n",
      " (3) - Soma \n",
      " (4) - Média \n",
      " (5) - Maior \n",
      " (6) - Menor \n",
      " (7) - estaOrdenada por ordem cresecente \n",
      " (8) - estaOrdenada por ordem descresecente \n",
      " (9) - Procura um elemento \n",
      " (0) - Sair \n",
      "\n",
      " Insira o número da opção que quer!\n",
      "50.4\n"
     ]
    },
    {
     "ename": "ValueError",
     "evalue": "invalid literal for int() with base 10: ''",
     "output_type": "error",
     "traceback": [
      "\u001b[1;31m---------------------------------------------------------------------------\u001b[0m",
      "\u001b[1;31mValueError\u001b[0m                                Traceback (most recent call last)",
      "Cell \u001b[1;32mIn [2], line 74\u001b[0m\n\u001b[0;32m     71\u001b[0m   media \u001b[39m=\u001b[39m soma\u001b[39m/\u001b[39ma\n\u001b[0;32m     72\u001b[0m   \u001b[39mprint\u001b[39m (media)\n\u001b[1;32m---> 74\u001b[0m   opc\u001b[39m=\u001b[39m\u001b[39mint\u001b[39m(\u001b[39minput\u001b[39m(\u001b[39m\"\u001b[39m\u001b[39mInsira a opção desejada!\u001b[39m\u001b[39m\"\u001b[39m))\n\u001b[0;32m     77\u001b[0m \u001b[39mif\u001b[39;00m opc\u001b[39m==\u001b[39m\u001b[39m5\u001b[39m:\n\u001b[0;32m     78\u001b[0m   n\u001b[39m=\u001b[39m\u001b[39mlen\u001b[39m(Lista) \n",
      "\u001b[1;31mValueError\u001b[0m: invalid literal for int() with base 10: ''"
     ]
    }
   ],
   "source": [
    "from random import randint\n",
    "\n",
    "\n",
    "\n",
    "\n",
    "Menu= (\"Menu: \\n (1) - Criar Lista \\n (2) - Ler Lista \\n (3) - Soma \\n (4) - Média \\n (5) - Maior \\n (6) - Menor \\n (7) - estaOrdenada por ordem cresecente \\n (8) - estaOrdenada por ordem descresecente \\n (9) - Procura um elemento \\n (0) - Sair \\n\\n Insira o número da opção que quer!\")\n",
    "print(Menu)\n",
    "opc=int(input(\"Insira opção desejada!\"))\n",
    "\n",
    "Lista=[]\n",
    "\n",
    "\n",
    "while opc!=0:\n",
    "   \n",
    "    \n",
    "\n",
    "\n",
    "    if opc==1:\n",
    "      N=int(input(\"Quantos números quer na lista?\"))\n",
    "      Lista.clear()\n",
    "      while N>0:\n",
    "        Lista.append(randint(1,100))\n",
    "        N=N-1\n",
    "      print(Lista)\n",
    "      print(Menu)\n",
    "    \n",
    "    \n",
    "      \n",
    "      opc=int(input(\"Insira a opção desejada!\"))  \n",
    "\n",
    "\n",
    "\n",
    "    if opc==2:\n",
    "      N=int(input(\"Quantos números quer na lista?\"))\n",
    "      Lista.clear()\n",
    "      while N>0:\n",
    "        num=int(input(\"Insira um número!\"))\n",
    "        Lista.append(num)\n",
    "        N=N-1\n",
    "      print (Lista)  \n",
    "      print(Menu)\n",
    "      \n",
    "      \n",
    "      \n",
    "      opc=int(input(\"Insira a opção desejada!\"))   \n",
    "\n",
    "   \n",
    "    if opc==3:\n",
    "      soma=0\n",
    "      n=len(Lista)     \n",
    "      while n>0:\n",
    "        num=Lista[n-1]\n",
    "        soma=soma+num\n",
    "        n= n-1\n",
    "      print(soma)\n",
    "      print(Menu)\n",
    "      \n",
    "      \n",
    "      opc=int(input(\"Insira a opção desejada!\"))\n",
    "\n",
    "\n",
    "    if opc==4:\n",
    "      media=0\n",
    "      soma=0\n",
    "      n=len(Lista)  \n",
    "      a=n\n",
    "      while n>0:\n",
    "        num=Lista[n-1]\n",
    "        soma = soma+num\n",
    "        n=n -1\n",
    "      media = soma/a\n",
    "      print (media)\n",
    "      print(Menu)\n",
    "      \n",
    "      opc=int(input(\"Insira a opção desejada!\"))\n",
    "\n",
    "\n",
    "    if opc==5:\n",
    "      n=len(Lista) \n",
    "      max=Lista[0] \n",
    "      for i in Lista [1:]:\n",
    "        if i> max:\n",
    "          max= i\n",
    "      print (max)\n",
    "      print(Menu)\n",
    "      \n",
    "      opc=int(input(\"Insira a opção desejada!\"))\n",
    "\n",
    "      \n",
    "\n",
    "\n",
    "    if opc==6:\n",
    "      n=len(Lista)\n",
    "      min=Lista[0]  \n",
    "      for i in Lista [1:]:\n",
    "        if i<min:\n",
    "          min= i \n",
    "      print (min) \n",
    "      print(Menu)\n",
    "      \n",
    "      opc=int(input(\"Insira a opção desejada!\"))   \n",
    "\n",
    "\n",
    "    if opc==7:\n",
    "      Listacopiada=[]\n",
    "      for i in Lista:\n",
    "        Listacopiada.append(i)\n",
    "      Listacopiada.sort()  \n",
    "      if Listacopiada==Lista:\n",
    "        print(\"Sim\")\n",
    "      else:\n",
    "        print(\"Não\")    \n",
    "\n",
    "      print(Menu)  \n",
    "      \n",
    "      \n",
    "      \n",
    "          \n",
    "      opc=int(input(\"Insira a opção desejada!\"))  \n",
    "\n",
    "    \n",
    "    if opc==8:\n",
    "      Listacopiada=[]\n",
    "      for i in Lista:\n",
    "        Listacopiada.append(i)\n",
    "      Listacopiada.sort(reverse=True)  \n",
    "      if Listacopiada==Lista:\n",
    "        print(\"Sim\")\n",
    "      else:\n",
    "        print(\"Não\")   \n",
    "      print(Menu)  \n",
    "      opc=int(input(\"Insira a opção desejada!\"))    \n",
    "     \n",
    "\n",
    "\n",
    "    \n",
    "    if opc==9:\n",
    "      elem=int(input(\"Que elemento quer encontrar na Lista?\"))\n",
    "       \n",
    "      if elem in Lista:\n",
    "        n=Lista.index(elem)\n",
    "        print(\"O elemento {}, encontra-se na lista na posição {}!\".format(elem,n))\n",
    "\n",
    "      elif elem not in Lista:\n",
    "        print=(\"O elemento {}, não se encontra na lista\".format(elem)) \n",
    "\n",
    "      print(Menu) \n",
    "\n",
    "      opc=int(input(\"Insira a opção desejada\")) \n",
    "\n",
    "\n",
    "if opc==0:\n",
    "  print(\" Até à proxima! \\n A lista guardada é {}\".format(Lista))\n",
    "\n",
    "         \n",
    "\n",
    "    \n",
    "\n",
    "      \n",
    "\n",
    "        \n",
    "\n",
    "\n",
    "\n"
   ]
  },
  {
   "cell_type": "code",
   "execution_count": null,
   "id": "5b04c356",
   "metadata": {},
   "outputs": [],
   "source": []
  }
 ],
 "metadata": {
  "kernelspec": {
   "display_name": "Python 3.10.7 64-bit",
   "language": "python",
   "name": "python3"
  },
  "language_info": {
   "codemirror_mode": {
    "name": "ipython",
    "version": 3
   },
   "file_extension": ".py",
   "mimetype": "text/x-python",
   "name": "python",
   "nbconvert_exporter": "python",
   "pygments_lexer": "ipython3",
   "version": "3.10.7"
  },
  "vscode": {
   "interpreter": {
    "hash": "107d7b120a5b68773a87d4067e673630b35702e55ebab3138143d08b1c4d7cbc"
   }
  }
 },
 "nbformat": 4,
 "nbformat_minor": 5
}
