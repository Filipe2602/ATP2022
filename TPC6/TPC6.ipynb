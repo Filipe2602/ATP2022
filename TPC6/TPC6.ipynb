{
 "cells": [
  {
   "cell_type": "code",
   "execution_count": 1,
   "metadata": {},
   "outputs": [],
   "source": [
    "import aula6_2\n",
    "\n",
    "import matplotlib.pyplot as plt\n",
    "\n",
    "import menu"
   ]
  },
  {
   "cell_type": "code",
   "execution_count": 2,
   "metadata": {},
   "outputs": [
    {
     "ename": "ValueError",
     "evalue": "invalid literal for int() with base 10: ''",
     "output_type": "error",
     "traceback": [
      "\u001b[1;31m---------------------------------------------------------------------------\u001b[0m",
      "\u001b[1;31mValueError\u001b[0m                                Traceback (most recent call last)",
      "Cell \u001b[1;32mIn [2], line 5\u001b[0m\n\u001b[0;32m      1\u001b[0m aula6_2\u001b[39m.\u001b[39mleObras(\u001b[39m\"\u001b[39m\u001b[39mobras.csv\u001b[39m\u001b[39m\"\u001b[39m)\n\u001b[0;32m      3\u001b[0m obras\u001b[39m=\u001b[39maula6_2\u001b[39m.\u001b[39mleObras(\u001b[39m\"\u001b[39m\u001b[39mobras.csv\u001b[39m\u001b[39m\"\u001b[39m)\n\u001b[1;32m----> 5\u001b[0m menu\u001b[39m.\u001b[39mmenu(obras)\n",
      "File \u001b[1;32mc:\\Users\\Asus\\Downloads\\AulaP5-20221017.ipynb\\aula 6\\menu.py:5\u001b[0m, in \u001b[0;36mmenu\u001b[1;34m(obras)\u001b[0m\n\u001b[0;32m      4\u001b[0m \u001b[39mdef\u001b[39;00m \u001b[39mmenu\u001b[39m(obras):\n\u001b[1;32m----> 5\u001b[0m     opc\u001b[39m=\u001b[39m\u001b[39mint\u001b[39;49m(\u001b[39minput\u001b[39;49m(\u001b[39m\"\u001b[39;49m\u001b[39mEscolha um opção\u001b[39;49m\u001b[39m\"\u001b[39;49m))\n\u001b[0;32m      7\u001b[0m     \u001b[39mwhile\u001b[39;00m opc \u001b[39m!=\u001b[39m\u001b[39m0\u001b[39m:\n\u001b[0;32m      8\u001b[0m         \u001b[39mif\u001b[39;00m opc\u001b[39m==\u001b[39m\u001b[39m1\u001b[39m:\n",
      "\u001b[1;31mValueError\u001b[0m: invalid literal for int() with base 10: ''"
     ]
    }
   ],
   "source": [
    "aula6_2.leObras(\"obras.csv\")\n",
    "\n",
    "obras=aula6_2.leObras(\"obras.csv\")\n",
    "\n",
    "menu.menu(obras)"
   ]
  },
  {
   "cell_type": "code",
   "execution_count": null,
   "metadata": {},
   "outputs": [],
   "source": []
  }
 ],
 "metadata": {
  "kernelspec": {
   "display_name": "Python 3.10.7 64-bit",
   "language": "python",
   "name": "python3"
  },
  "language_info": {
   "codemirror_mode": {
    "name": "ipython",
    "version": 3
   },
   "file_extension": ".py",
   "mimetype": "text/x-python",
   "name": "python",
   "nbconvert_exporter": "python",
   "pygments_lexer": "ipython3",
   "version": "3.10.7"
  },
  "orig_nbformat": 4,
  "vscode": {
   "interpreter": {
    "hash": "107d7b120a5b68773a87d4067e673630b35702e55ebab3138143d08b1c4d7cbc"
   }
  }
 },
 "nbformat": 4,
 "nbformat_minor": 2
}
